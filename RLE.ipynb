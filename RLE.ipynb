{
 "cells": [
  {
   "cell_type": "markdown",
   "metadata": {
    "slideshow": {
     "slide_type": "subslide"
    }
   },
   "source": [
    "# Run-Length Encoding (RLE)"
   ]
  },
  {
   "cell_type": "code",
   "execution_count": 1,
   "metadata": {
    "slideshow": {
     "slide_type": "-"
    }
   },
   "outputs": [
    {
     "name": "stdout",
     "output_type": "stream",
     "text": [
      "[(4, 'a'), (5, 'b'), (6, 'a'), (7, 'b'), (6, 'c')]\n",
      "aaaabbbbbaaaaaabbbbbbbcccccc\n"
     ]
    }
   ],
   "source": [
    "# https://rosettacode.org/wiki/Run-length_encoding#Python\n",
    "# https://docs.python.org/3/library/itertools.html#itertools.groupby\n",
    "\n",
    "from itertools import groupby\n",
    "def N_RLE_encode(input_string):\n",
    "    return [(len(list(g)), k) for k,g in groupby(input_string)]\n",
    " \n",
    "def N_RLE_decode(lst):\n",
    "    return ''.join(c * n for n, c in lst)\n",
    "\n",
    "x = N_RLE_encode('aaaabbbbbaaaaaabbbbbbbcccccc')\n",
    "print(x)\n",
    "y = N_RLE_decode(x)\n",
    "print(y)"
   ]
  }
 ],
 "metadata": {
  "celltoolbar": "Slideshow",
  "kernelspec": {
   "display_name": "Python 3",
   "language": "python",
   "name": "python3"
  },
  "language_info": {
   "codemirror_mode": {
    "name": "ipython",
    "version": 3
   },
   "file_extension": ".py",
   "mimetype": "text/x-python",
   "name": "python",
   "nbconvert_exporter": "python",
   "pygments_lexer": "ipython3",
   "version": "3.6.4"
  }
 },
 "nbformat": 4,
 "nbformat_minor": 1
}
