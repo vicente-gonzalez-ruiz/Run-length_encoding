{
 "cells": [
  {
   "cell_type": "markdown",
   "metadata": {
    "slideshow": {
     "slide_type": "slide"
    }
   },
   "source": [
    "# [Run-length encoding](https://en.wikipedia.org/wiki/Run-length_encoding)\n",
    "\n",
    "* RLE (Run Length Encoding) is a technique that removes the data\n",
    "  redundancy produced by the repetition of symbols. Example:\n",
    "  ```\n",
    "  aaaaa = 5a\n",
    "  ```\n",
    "* Depending on the length of the source alphabet and the maximal length of the run,\n",
    "  different versions of RLE codecs have been proposed."
   ]
  },
  {
   "cell_type": "markdown",
   "metadata": {
    "slideshow": {
     "slide_type": "slide"
    }
   },
   "source": [
    "## 1. $N$-ary run length encoding\n",
    "\n",
    "RLE for $N$-ary alphabets (alphabets of size $N$), where typically, $N=256$."
   ]
  },
  {
   "cell_type": "markdown",
   "metadata": {
    "slideshow": {
     "slide_type": "subslide"
    }
   },
   "source": [
    "### Encoder\n",
    "\n",
    "1. While there are symbols to encode:\n",
    "    1. Let $s$ the next symbol.\n",
    "    2. Read the next $n$ consecutive symbols equal to $s$.\n",
    "    3. Write the pair $ns$."
   ]
  },
  {
   "cell_type": "markdown",
   "metadata": {
    "slideshow": {
     "slide_type": "subslide"
    }
   },
   "source": [
    "### Example\n",
    "\n",
    "Runs:\n",
    "```\n",
    "aaaabbbbbaaaaaabbbbbbbcccccc\n",
    "```\n",
    "are encoded as:\n",
    "```\n",
    "4a5b6a7b6c\n",
    "```"
   ]
  },
  {
   "cell_type": "markdown",
   "metadata": {
    "slideshow": {
     "slide_type": "subslide"
    }
   },
   "source": [
    "### Decoder\n",
    "\n",
    "1. While there are $ns$ pairs to decode:\n",
    "    1. Write $n$-times the symbol $s$."
   ]
  },
  {
   "cell_type": "markdown",
   "metadata": {
    "slideshow": {
     "slide_type": "subslide"
    }
   },
   "source": [
    "### Lab"
   ]
  },
  {
   "cell_type": "code",
   "execution_count": 1,
   "metadata": {
    "slideshow": {
     "slide_type": "-"
    }
   },
   "outputs": [
    {
     "name": "stdout",
     "output_type": "stream",
     "text": [
      "[(4, 'a'), (5, 'b'), (6, 'a'), (7, 'b'), (6, 'c')]\n",
      "aaaabbbbbaaaaaabbbbbbbcccccc\n"
     ]
    }
   ],
   "source": [
    "# https://rosettacode.org/wiki/Run-length_encoding#Python\n",
    "# https://docs.python.org/3/library/itertools.html#itertools.groupby\n",
    "\n",
    "from itertools import groupby\n",
    "def N_RLE_encode(input_string):\n",
    "    return [(len(list(g)), k) for k,g in groupby(input_string)]\n",
    " \n",
    "def N_RLE_decode(lst):\n",
    "    return ''.join(c * n for n, c in lst)\n",
    "\n",
    "x = N_RLE_encode('aaaabbbbbaaaaaabbbbbbbcccccc')\n",
    "print(x)\n",
    "y = N_RLE_decode(x)\n",
    "print(y)"
   ]
  },
  {
   "cell_type": "markdown",
   "metadata": {
    "slideshow": {
     "slide_type": "slide"
    }
   },
   "source": [
    "## 2. Binary run length encoding\n",
    "\n",
    "* In binary RLE is not necessary to indicate the next symbol\n",
    "  (only the length) because when a run ends, only the other (possible) symbol will\n",
    "  start with the next run."
   ]
  },
  {
   "cell_type": "markdown",
   "metadata": {
    "slideshow": {
     "slide_type": "subslide"
    }
   },
   "source": [
    "### Encoder\n",
    "\n",
    "1. Let $s\\leftarrow$ `0`.\n",
    "2. While there are bits to encode:\n",
    "    1. Read the next $n$ consecutive bits equal to $s$.\n",
    "    2. Write $n$.\n",
    "    3. $s\\leftarrow (s+1)~\\text{modulus}~2$."
   ]
  },
  {
   "cell_type": "markdown",
   "metadata": {
    "slideshow": {
     "slide_type": "subslide"
    }
   },
   "source": [
    "### Example\n",
    "\n",
    "Runs:\n",
    "```\n",
    "0000111110000001111111000000\n",
    "```\n",
    "are encoded as::\n",
    "```\n",
    "4 5 6 7 6\n",
    "```"
   ]
  },
  {
   "cell_type": "markdown",
   "metadata": {
    "slideshow": {
     "slide_type": "subslide"
    }
   },
   "source": [
    "### Decoder\n",
    "\n",
    "1. Let $s\\leftarrow$ `0`.\n",
    "2. While there are items $n$ to decode:\n",
    "    1. Write $n$ bits equal to $s$.\n",
    "    2. $s\\leftarrow (s+1)~\\text{modulus}~2$."
   ]
  },
  {
   "cell_type": "markdown",
   "metadata": {
    "slideshow": {
     "slide_type": "slide"
    }
   },
   "source": [
    "## 3. [MPN-5 run length encoding](https://en.wikipedia.org/wiki/Microcom_Networking_Protocol#MNP_5)\n",
    "\n",
    "* Created by [Microcom Inc.](https://en.wikipedia.org/wiki/Microcom_Networking_Protocol)\n",
    "for the [MNP (Microcom Networking Protocol) 5](https://scholar.google.es/scholar?hl=es&as_sdt=0%2C5&q=held+data+compression+techniques+applications&btnG=)."
   ]
  },
  {
   "cell_type": "markdown",
   "metadata": {
    "slideshow": {
     "slide_type": "subslide"
    }
   },
   "source": [
    "### Codec\n",
    "  \n",
    "```\n",
    "Input     Output\n",
    "--------- ---------\n",
    "ab        ab\n",
    "aab       aab\n",
    "aaab      aaa0b /* 3-symbols length run == <ESC> code-word */\n",
    "aaaab     aaa1b\n",
    "aaaaab    aaa2b\n",
    ":         :\n",
    "a^nb      aaa(n-3)b\n",
    "```"
   ]
  },
  {
   "cell_type": "markdown",
   "metadata": {
    "slideshow": {
     "slide_type": "subslide"
    }
   },
   "source": [
    "### Example\n",
    "\n",
    "Runs:\n",
    "```\n",
    "aaaabbbbbaaaaaabbbbbbbccccccb\n",
    "```\n",
    "are encoded as:\n",
    "```\n",
    "aaa1bbb2aaa3bbb4ccc3b\n",
    "```"
   ]
  },
  {
   "cell_type": "markdown",
   "metadata": {
    "slideshow": {
     "slide_type": "subslide"
    }
   },
   "source": [
    "### Lab"
   ]
  },
  {
   "cell_type": "code",
   "execution_count": 5,
   "metadata": {},
   "outputs": [
    {
     "name": "stdout",
     "output_type": "stream",
     "text": [
      "aaa1bbb2aaa3bbb4ccc3aaa0b\n",
      "aaaabbbbbaaaaaabbbbbbbccccccaaab\n"
     ]
    },
    {
     "data": {
      "text/plain": [
       "True"
      ]
     },
     "execution_count": 5,
     "metadata": {},
     "output_type": "execute_result"
    }
   ],
   "source": [
    "# TO-DO\n",
    "from itertools import groupby    #I import the library to use the groupby function\n",
    "def MPN5_enconding(input_string):#I define the method as MPN5_encoding\n",
    "    code_stream = '' #The string that I will return when it is encoded\n",
    "    for k, g in groupby(input_string): #The string I want to encode is separated in different runs\n",
    "        length_eachRun = len(list(g)) #Length of run\n",
    "        if length_eachRun > 3: #If lenght of run is equal or greater than 3, I treat it\n",
    "            code_stream+= str(k*3) + str((length_eachRun - 3)) #Calculate this: aaa(N-3) being N the lenght of run\n",
    "        elif length_eachRun == 3: \n",
    "            code_stream+= k*length_eachRun + '0'\n",
    "        else: #If its length is less than 3, I leave it as it is, I do not treat it\n",
    "            code_stream+= k*length_eachRun\n",
    "        #print(k, code_stream)\n",
    "    return code_stream #I return the already coded string\n",
    "\n",
    "def MPN5_decoding(input_string): #I define the method as MPN5_decoding by passing it a code-stream encoded by parameter\n",
    "    original_code = '' #The decoded string that I will return\n",
    "    for i in range(len(input_string)): #I go through each code-stream symbol\n",
    "        #print(i, input_string[i])\n",
    "        if input_string[i].isdigit(): #If it is a number, I will take the symbol that is repeated and write it the n times it repeats\n",
    "            run = input_string[i-1]*int(input_string[i])\n",
    "            original_code+= run\n",
    "        else:\n",
    "            original_code+= input_string[i] #If it is not a number, I write the symbol\n",
    "    return original_code #I return the original code-stream (not coded)\n",
    "\n",
    "message_encoded = MPN5_enconding('aaaabbbbbaaaaaabbbbbbbccccccaaab')\n",
    "print(message_encoded)\n",
    "message_decoded = MPN5_decoding(message_encoded)\n",
    "print(message_decoded)\n",
    "\n",
    "'aaaabbbbbaaaaaabbbbbbbccccccaaab' == message_decoded\n"
   ]
  },
  {
   "cell_type": "markdown",
   "metadata": {},
   "source": [
    "## Contents\n",
    "\n",
    "1. [Burrows-Wheeler Transform](Burrows-Wheeler_Transform/Burrows-Wheeler_Transform.ipynb)."
   ]
  }
 ],
 "metadata": {
  "celltoolbar": "Slideshow",
  "kernelspec": {
   "display_name": "Python 3",
   "language": "python",
   "name": "python3"
  },
  "language_info": {
   "codemirror_mode": {
    "name": "ipython",
    "version": 3
   },
   "file_extension": ".py",
   "mimetype": "text/x-python",
   "name": "python",
   "nbconvert_exporter": "python",
   "pygments_lexer": "ipython3",
   "version": "3.6.3"
  }
 },
 "nbformat": 4,
 "nbformat_minor": 1
}
