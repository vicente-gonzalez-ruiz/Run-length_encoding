{
 "cells": [
  {
   "cell_type": "markdown",
   "metadata": {
    "slideshow": {
     "slide_type": "slide"
    }
   },
   "source": [
    "# Binary run length encoding\n",
    "\n",
    "* In binary RLE is not necessary to indicate the next symbol\n",
    "  (only the length) because when a run ends, only the other (possible) symbol will\n",
    "  start with the next run."
   ]
  },
  {
   "cell_type": "markdown",
   "metadata": {
    "slideshow": {
     "slide_type": "subslide"
    }
   },
   "source": [
    "# Encoder\n",
    "\n",
    "1. Let $s\\leftarrow$ `0`.\n",
    "2. While there are bits to encode:\n",
    "    1. Read the next $n$ consecutive bits equal to $s$.\n",
    "    2. Write $n$.\n",
    "    3. $s\\leftarrow (s+1)~\\text{modulus}~2$."
   ]
  },
  {
   "cell_type": "markdown",
   "metadata": {
    "slideshow": {
     "slide_type": "subslide"
    }
   },
   "source": [
    "# Example\n",
    "\n",
    "Runs:\n",
    "```\n",
    "0000111110000001111111000000\n",
    "```\n",
    "are encoded as::\n",
    "```\n",
    "4 5 6 7 6\n",
    "```"
   ]
  },
  {
   "cell_type": "markdown",
   "metadata": {
    "slideshow": {
     "slide_type": "subslide"
    }
   },
   "source": [
    "# Decoder\n",
    "\n",
    "1. Let $s\\leftarrow$ `0`.\n",
    "2. While there are items $n$ to decode:\n",
    "    1. Write $n$ bits equal to $s$.\n",
    "    2. $s\\leftarrow (s+1)~\\text{modulus}~2$."
   ]
  }
 ],
 "metadata": {
  "celltoolbar": "Slideshow",
  "kernelspec": {
   "display_name": "Python 3",
   "language": "python",
   "name": "python3"
  },
  "language_info": {
   "codemirror_mode": {
    "name": "ipython",
    "version": 3
   },
   "file_extension": ".py",
   "mimetype": "text/x-python",
   "name": "python",
   "nbconvert_exporter": "python",
   "pygments_lexer": "ipython3",
   "version": "3.6.3"
  }
 },
 "nbformat": 4,
 "nbformat_minor": 1
}
